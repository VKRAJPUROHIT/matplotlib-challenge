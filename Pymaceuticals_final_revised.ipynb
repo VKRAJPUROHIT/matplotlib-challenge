{
 "cells": [
  {
   "cell_type": "code",
   "execution_count": 1,
   "metadata": {},
   "outputs": [],
   "source": [
    "# Dependencies and Setup\n",
    "import matplotlib.pyplot as plt\n",
    "import pandas as pd\n",
    "import scipy.stats as st\n",
    "import numpy as np\n",
    "from scipy.stats import linregress\n",
    "from sklearn import datasets\n",
    "\n",
    "# Study data files\n",
    "mouse_metadata_path = \"data/Mouse_metadata.csv\"\n",
    "study_results_path = \"data/Study_results.csv\"\n",
    "\n",
    "# Read the mouse data and the study results\n",
    "mouse_metadata = pd.read_csv(mouse_metadata_path)\n",
    "study_results = pd.read_csv(study_results_path)\n"
   ]
  },
  {
   "cell_type": "code",
   "execution_count": 2,
   "metadata": {},
   "outputs": [],
   "source": [
    "#Inferences:\n",
    "#1. In the line plot of tumor volume vs timepoint for mouse T565, it is seen that the Capomulin treatment is effective\n",
    "# in reducing the tumor volume as expected,from timepoint=10 to timepoint=30.However, from 0 to 10 and from 10 to 45,\n",
    "# the tumor volume actually increases.The reason may be the the initial effectiveness and response time of the drug or \n",
    "# the advancement of the cancer disease after timepont 30 or tumor volume measurement error    \n",
    "#2: Of all the drug regimen in the Summary Statistics table,Capomulin has the lowest standard deviation,indicating it is \n",
    "# closest to the mean.This tells us that the drug efficacy of Capomulin and method of experiment of this group is reliable\n",
    "# compared to other drugs   \n",
    "#3 The pie chart tells us that males and female mouses have been equally distributed in the study overall\n",
    "#4 In the scatter plot, we see the tumor volume has generally increased with mouse weight\n",
    "#5 The scatter plot follows a straight line as per the regression analysis  "
   ]
  },
  {
   "cell_type": "code",
   "execution_count": 3,
   "metadata": {},
   "outputs": [],
   "source": [
    "#magic function notebook\n",
    "%matplotlib notebook "
   ]
  },
  {
   "cell_type": "code",
   "execution_count": 4,
   "metadata": {},
   "outputs": [],
   "source": [
    "# Combine the data into a single dataset\n",
    "combined_mouse_data=pd.merge(mouse_metadata,study_results,on='Mouse ID')"
   ]
  },
  {
   "cell_type": "code",
   "execution_count": 5,
   "metadata": {},
   "outputs": [
    {
     "data": {
      "text/html": [
       "<div>\n",
       "<style scoped>\n",
       "    .dataframe tbody tr th:only-of-type {\n",
       "        vertical-align: middle;\n",
       "    }\n",
       "\n",
       "    .dataframe tbody tr th {\n",
       "        vertical-align: top;\n",
       "    }\n",
       "\n",
       "    .dataframe thead th {\n",
       "        text-align: right;\n",
       "    }\n",
       "</style>\n",
       "<table border=\"1\" class=\"dataframe\">\n",
       "  <thead>\n",
       "    <tr style=\"text-align: right;\">\n",
       "      <th></th>\n",
       "      <th>Mouse ID</th>\n",
       "      <th>Drug Regimen</th>\n",
       "      <th>Sex</th>\n",
       "      <th>Age_months</th>\n",
       "      <th>Weight (g)</th>\n",
       "      <th>Timepoint</th>\n",
       "      <th>Tumor Volume (mm3)</th>\n",
       "      <th>Metastatic Sites</th>\n",
       "    </tr>\n",
       "  </thead>\n",
       "  <tbody>\n",
       "    <tr>\n",
       "      <th>0</th>\n",
       "      <td>k403</td>\n",
       "      <td>Ramicane</td>\n",
       "      <td>Male</td>\n",
       "      <td>21</td>\n",
       "      <td>16</td>\n",
       "      <td>0</td>\n",
       "      <td>45.000000</td>\n",
       "      <td>0</td>\n",
       "    </tr>\n",
       "    <tr>\n",
       "      <th>1</th>\n",
       "      <td>k403</td>\n",
       "      <td>Ramicane</td>\n",
       "      <td>Male</td>\n",
       "      <td>21</td>\n",
       "      <td>16</td>\n",
       "      <td>5</td>\n",
       "      <td>38.825898</td>\n",
       "      <td>0</td>\n",
       "    </tr>\n",
       "    <tr>\n",
       "      <th>2</th>\n",
       "      <td>k403</td>\n",
       "      <td>Ramicane</td>\n",
       "      <td>Male</td>\n",
       "      <td>21</td>\n",
       "      <td>16</td>\n",
       "      <td>10</td>\n",
       "      <td>35.014271</td>\n",
       "      <td>1</td>\n",
       "    </tr>\n",
       "    <tr>\n",
       "      <th>3</th>\n",
       "      <td>k403</td>\n",
       "      <td>Ramicane</td>\n",
       "      <td>Male</td>\n",
       "      <td>21</td>\n",
       "      <td>16</td>\n",
       "      <td>15</td>\n",
       "      <td>34.223992</td>\n",
       "      <td>1</td>\n",
       "    </tr>\n",
       "    <tr>\n",
       "      <th>4</th>\n",
       "      <td>k403</td>\n",
       "      <td>Ramicane</td>\n",
       "      <td>Male</td>\n",
       "      <td>21</td>\n",
       "      <td>16</td>\n",
       "      <td>20</td>\n",
       "      <td>32.997729</td>\n",
       "      <td>1</td>\n",
       "    </tr>\n",
       "    <tr>\n",
       "      <th>...</th>\n",
       "      <td>...</td>\n",
       "      <td>...</td>\n",
       "      <td>...</td>\n",
       "      <td>...</td>\n",
       "      <td>...</td>\n",
       "      <td>...</td>\n",
       "      <td>...</td>\n",
       "      <td>...</td>\n",
       "    </tr>\n",
       "    <tr>\n",
       "      <th>1888</th>\n",
       "      <td>z969</td>\n",
       "      <td>Naftisol</td>\n",
       "      <td>Male</td>\n",
       "      <td>9</td>\n",
       "      <td>30</td>\n",
       "      <td>25</td>\n",
       "      <td>63.145652</td>\n",
       "      <td>2</td>\n",
       "    </tr>\n",
       "    <tr>\n",
       "      <th>1889</th>\n",
       "      <td>z969</td>\n",
       "      <td>Naftisol</td>\n",
       "      <td>Male</td>\n",
       "      <td>9</td>\n",
       "      <td>30</td>\n",
       "      <td>30</td>\n",
       "      <td>65.841013</td>\n",
       "      <td>3</td>\n",
       "    </tr>\n",
       "    <tr>\n",
       "      <th>1890</th>\n",
       "      <td>z969</td>\n",
       "      <td>Naftisol</td>\n",
       "      <td>Male</td>\n",
       "      <td>9</td>\n",
       "      <td>30</td>\n",
       "      <td>35</td>\n",
       "      <td>69.176246</td>\n",
       "      <td>4</td>\n",
       "    </tr>\n",
       "    <tr>\n",
       "      <th>1891</th>\n",
       "      <td>z969</td>\n",
       "      <td>Naftisol</td>\n",
       "      <td>Male</td>\n",
       "      <td>9</td>\n",
       "      <td>30</td>\n",
       "      <td>40</td>\n",
       "      <td>70.314904</td>\n",
       "      <td>4</td>\n",
       "    </tr>\n",
       "    <tr>\n",
       "      <th>1892</th>\n",
       "      <td>z969</td>\n",
       "      <td>Naftisol</td>\n",
       "      <td>Male</td>\n",
       "      <td>9</td>\n",
       "      <td>30</td>\n",
       "      <td>45</td>\n",
       "      <td>73.867845</td>\n",
       "      <td>4</td>\n",
       "    </tr>\n",
       "  </tbody>\n",
       "</table>\n",
       "<p>1893 rows × 8 columns</p>\n",
       "</div>"
      ],
      "text/plain": [
       "     Mouse ID Drug Regimen   Sex  Age_months  Weight (g)  Timepoint  \\\n",
       "0        k403     Ramicane  Male          21          16          0   \n",
       "1        k403     Ramicane  Male          21          16          5   \n",
       "2        k403     Ramicane  Male          21          16         10   \n",
       "3        k403     Ramicane  Male          21          16         15   \n",
       "4        k403     Ramicane  Male          21          16         20   \n",
       "...       ...          ...   ...         ...         ...        ...   \n",
       "1888     z969     Naftisol  Male           9          30         25   \n",
       "1889     z969     Naftisol  Male           9          30         30   \n",
       "1890     z969     Naftisol  Male           9          30         35   \n",
       "1891     z969     Naftisol  Male           9          30         40   \n",
       "1892     z969     Naftisol  Male           9          30         45   \n",
       "\n",
       "      Tumor Volume (mm3)  Metastatic Sites  \n",
       "0              45.000000                 0  \n",
       "1              38.825898                 0  \n",
       "2              35.014271                 1  \n",
       "3              34.223992                 1  \n",
       "4              32.997729                 1  \n",
       "...                  ...               ...  \n",
       "1888           63.145652                 2  \n",
       "1889           65.841013                 3  \n",
       "1890           69.176246                 4  \n",
       "1891           70.314904                 4  \n",
       "1892           73.867845                 4  \n",
       "\n",
       "[1893 rows x 8 columns]"
      ]
     },
     "execution_count": 5,
     "metadata": {},
     "output_type": "execute_result"
    }
   ],
   "source": [
    "# Display the data table for preview\n",
    "combined_mouse_data"
   ]
  },
  {
   "cell_type": "code",
   "execution_count": 6,
   "metadata": {},
   "outputs": [
    {
     "name": "stdout",
     "output_type": "stream",
     "text": [
      "249\n"
     ]
    }
   ],
   "source": [
    "# Checking the number of mice.\n",
    "number_of_mice=combined_mouse_data['Mouse ID'].nunique()\n",
    "print(number_of_mice)"
   ]
  },
  {
   "cell_type": "code",
   "execution_count": 7,
   "metadata": {},
   "outputs": [
    {
     "name": "stdout",
     "output_type": "stream",
     "text": [
      "    Mouse ID Drug Regimen     Sex  Age_months  Weight (g)  Timepoint  \\\n",
      "909     g989     Propriva  Female          21          26          0   \n",
      "911     g989     Propriva  Female          21          26          5   \n",
      "913     g989     Propriva  Female          21          26         10   \n",
      "915     g989     Propriva  Female          21          26         15   \n",
      "917     g989     Propriva  Female          21          26         20   \n",
      "\n",
      "     Tumor Volume (mm3)  Metastatic Sites  \n",
      "909           45.000000                 0  \n",
      "911           47.570392                 0  \n",
      "913           49.880528                 0  \n",
      "915           53.442020                 0  \n",
      "917           54.657650                 1  \n"
     ]
    }
   ],
   "source": [
    "# Getting the duplicate mice by ID number that shows up for Mouse ID and Timepoint. \n",
    "get_duplicate_of_mouseid_timepoint=combined_mouse_data[combined_mouse_data.duplicated(['Mouse ID','Timepoint'])]\n",
    "print(get_duplicate_of_mouseid_timepoint)"
   ]
  },
  {
   "cell_type": "code",
   "execution_count": 8,
   "metadata": {},
   "outputs": [
    {
     "data": {
      "text/html": [
       "<div>\n",
       "<style scoped>\n",
       "    .dataframe tbody tr th:only-of-type {\n",
       "        vertical-align: middle;\n",
       "    }\n",
       "\n",
       "    .dataframe tbody tr th {\n",
       "        vertical-align: top;\n",
       "    }\n",
       "\n",
       "    .dataframe thead th {\n",
       "        text-align: right;\n",
       "    }\n",
       "</style>\n",
       "<table border=\"1\" class=\"dataframe\">\n",
       "  <thead>\n",
       "    <tr style=\"text-align: right;\">\n",
       "      <th></th>\n",
       "      <th>Mouse ID</th>\n",
       "      <th>Drug Regimen</th>\n",
       "      <th>Sex</th>\n",
       "      <th>Age_months</th>\n",
       "      <th>Weight (g)</th>\n",
       "      <th>Timepoint</th>\n",
       "      <th>Tumor Volume (mm3)</th>\n",
       "      <th>Metastatic Sites</th>\n",
       "    </tr>\n",
       "  </thead>\n",
       "  <tbody>\n",
       "    <tr>\n",
       "      <th>0</th>\n",
       "      <td>k403</td>\n",
       "      <td>Ramicane</td>\n",
       "      <td>Male</td>\n",
       "      <td>21</td>\n",
       "      <td>16</td>\n",
       "      <td>0</td>\n",
       "      <td>45.000000</td>\n",
       "      <td>0</td>\n",
       "    </tr>\n",
       "    <tr>\n",
       "      <th>1</th>\n",
       "      <td>k403</td>\n",
       "      <td>Ramicane</td>\n",
       "      <td>Male</td>\n",
       "      <td>21</td>\n",
       "      <td>16</td>\n",
       "      <td>5</td>\n",
       "      <td>38.825898</td>\n",
       "      <td>0</td>\n",
       "    </tr>\n",
       "    <tr>\n",
       "      <th>2</th>\n",
       "      <td>k403</td>\n",
       "      <td>Ramicane</td>\n",
       "      <td>Male</td>\n",
       "      <td>21</td>\n",
       "      <td>16</td>\n",
       "      <td>10</td>\n",
       "      <td>35.014271</td>\n",
       "      <td>1</td>\n",
       "    </tr>\n",
       "    <tr>\n",
       "      <th>3</th>\n",
       "      <td>k403</td>\n",
       "      <td>Ramicane</td>\n",
       "      <td>Male</td>\n",
       "      <td>21</td>\n",
       "      <td>16</td>\n",
       "      <td>15</td>\n",
       "      <td>34.223992</td>\n",
       "      <td>1</td>\n",
       "    </tr>\n",
       "    <tr>\n",
       "      <th>4</th>\n",
       "      <td>k403</td>\n",
       "      <td>Ramicane</td>\n",
       "      <td>Male</td>\n",
       "      <td>21</td>\n",
       "      <td>16</td>\n",
       "      <td>20</td>\n",
       "      <td>32.997729</td>\n",
       "      <td>1</td>\n",
       "    </tr>\n",
       "  </tbody>\n",
       "</table>\n",
       "</div>"
      ],
      "text/plain": [
       "  Mouse ID Drug Regimen   Sex  Age_months  Weight (g)  Timepoint  \\\n",
       "0     k403     Ramicane  Male          21          16          0   \n",
       "1     k403     Ramicane  Male          21          16          5   \n",
       "2     k403     Ramicane  Male          21          16         10   \n",
       "3     k403     Ramicane  Male          21          16         15   \n",
       "4     k403     Ramicane  Male          21          16         20   \n",
       "\n",
       "   Tumor Volume (mm3)  Metastatic Sites  \n",
       "0           45.000000                 0  \n",
       "1           38.825898                 0  \n",
       "2           35.014271                 1  \n",
       "3           34.223992                 1  \n",
       "4           32.997729                 1  "
      ]
     },
     "execution_count": 8,
     "metadata": {},
     "output_type": "execute_result"
    }
   ],
   "source": [
    "# Create a clean DataFrame by dropping the duplicate mouse by its ID.\n",
    "clean_combined_mouse_data=combined_mouse_data.drop_duplicates(subset=['Mouse ID','Timepoint'],keep='first')\n",
    "clean_combined_mouse_data.head()"
   ]
  },
  {
   "cell_type": "code",
   "execution_count": 9,
   "metadata": {},
   "outputs": [
    {
     "name": "stdout",
     "output_type": "stream",
     "text": [
      "249\n"
     ]
    }
   ],
   "source": [
    "#Checking the number of mice in the clean DataFrame\n",
    "number_of_mice_clean=clean_combined_mouse_data['Mouse ID'].nunique()\n",
    "print(number_of_mice_clean)"
   ]
  },
  {
   "cell_type": "code",
   "execution_count": 10,
   "metadata": {},
   "outputs": [
    {
     "data": {
      "text/html": [
       "<div>\n",
       "<style scoped>\n",
       "    .dataframe tbody tr th:only-of-type {\n",
       "        vertical-align: middle;\n",
       "    }\n",
       "\n",
       "    .dataframe tbody tr th {\n",
       "        vertical-align: top;\n",
       "    }\n",
       "\n",
       "    .dataframe thead th {\n",
       "        text-align: right;\n",
       "    }\n",
       "</style>\n",
       "<table border=\"1\" class=\"dataframe\">\n",
       "  <thead>\n",
       "    <tr style=\"text-align: right;\">\n",
       "      <th></th>\n",
       "      <th>Mouse ID</th>\n",
       "      <th>Drug Regimen</th>\n",
       "      <th>Sex</th>\n",
       "      <th>Age_months</th>\n",
       "      <th>Weight (g)</th>\n",
       "      <th>Timepoint</th>\n",
       "      <th>Tumor Volume (mm3)</th>\n",
       "      <th>Metastatic Sites</th>\n",
       "    </tr>\n",
       "  </thead>\n",
       "  <tbody>\n",
       "    <tr>\n",
       "      <th>0</th>\n",
       "      <td>k403</td>\n",
       "      <td>Ramicane</td>\n",
       "      <td>Male</td>\n",
       "      <td>21</td>\n",
       "      <td>16</td>\n",
       "      <td>0</td>\n",
       "      <td>45.000000</td>\n",
       "      <td>0</td>\n",
       "    </tr>\n",
       "    <tr>\n",
       "      <th>1</th>\n",
       "      <td>k403</td>\n",
       "      <td>Ramicane</td>\n",
       "      <td>Male</td>\n",
       "      <td>21</td>\n",
       "      <td>16</td>\n",
       "      <td>5</td>\n",
       "      <td>38.825898</td>\n",
       "      <td>0</td>\n",
       "    </tr>\n",
       "    <tr>\n",
       "      <th>2</th>\n",
       "      <td>k403</td>\n",
       "      <td>Ramicane</td>\n",
       "      <td>Male</td>\n",
       "      <td>21</td>\n",
       "      <td>16</td>\n",
       "      <td>10</td>\n",
       "      <td>35.014271</td>\n",
       "      <td>1</td>\n",
       "    </tr>\n",
       "    <tr>\n",
       "      <th>3</th>\n",
       "      <td>k403</td>\n",
       "      <td>Ramicane</td>\n",
       "      <td>Male</td>\n",
       "      <td>21</td>\n",
       "      <td>16</td>\n",
       "      <td>15</td>\n",
       "      <td>34.223992</td>\n",
       "      <td>1</td>\n",
       "    </tr>\n",
       "    <tr>\n",
       "      <th>4</th>\n",
       "      <td>k403</td>\n",
       "      <td>Ramicane</td>\n",
       "      <td>Male</td>\n",
       "      <td>21</td>\n",
       "      <td>16</td>\n",
       "      <td>20</td>\n",
       "      <td>32.997729</td>\n",
       "      <td>1</td>\n",
       "    </tr>\n",
       "    <tr>\n",
       "      <th>...</th>\n",
       "      <td>...</td>\n",
       "      <td>...</td>\n",
       "      <td>...</td>\n",
       "      <td>...</td>\n",
       "      <td>...</td>\n",
       "      <td>...</td>\n",
       "      <td>...</td>\n",
       "      <td>...</td>\n",
       "    </tr>\n",
       "    <tr>\n",
       "      <th>692</th>\n",
       "      <td>c580</td>\n",
       "      <td>Ketapril</td>\n",
       "      <td>Male</td>\n",
       "      <td>22</td>\n",
       "      <td>25</td>\n",
       "      <td>10</td>\n",
       "      <td>47.570174</td>\n",
       "      <td>1</td>\n",
       "    </tr>\n",
       "    <tr>\n",
       "      <th>693</th>\n",
       "      <td>c580</td>\n",
       "      <td>Ketapril</td>\n",
       "      <td>Male</td>\n",
       "      <td>22</td>\n",
       "      <td>25</td>\n",
       "      <td>15</td>\n",
       "      <td>51.991708</td>\n",
       "      <td>1</td>\n",
       "    </tr>\n",
       "    <tr>\n",
       "      <th>694</th>\n",
       "      <td>c580</td>\n",
       "      <td>Ketapril</td>\n",
       "      <td>Male</td>\n",
       "      <td>22</td>\n",
       "      <td>25</td>\n",
       "      <td>20</td>\n",
       "      <td>55.575322</td>\n",
       "      <td>2</td>\n",
       "    </tr>\n",
       "    <tr>\n",
       "      <th>695</th>\n",
       "      <td>c580</td>\n",
       "      <td>Ketapril</td>\n",
       "      <td>Male</td>\n",
       "      <td>22</td>\n",
       "      <td>25</td>\n",
       "      <td>25</td>\n",
       "      <td>56.289062</td>\n",
       "      <td>2</td>\n",
       "    </tr>\n",
       "    <tr>\n",
       "      <th>696</th>\n",
       "      <td>c580</td>\n",
       "      <td>Ketapril</td>\n",
       "      <td>Male</td>\n",
       "      <td>22</td>\n",
       "      <td>25</td>\n",
       "      <td>30</td>\n",
       "      <td>58.046569</td>\n",
       "      <td>3</td>\n",
       "    </tr>\n",
       "  </tbody>\n",
       "</table>\n",
       "<p>100 rows × 8 columns</p>\n",
       "</div>"
      ],
      "text/plain": [
       "    Mouse ID Drug Regimen   Sex  Age_months  Weight (g)  Timepoint  \\\n",
       "0       k403     Ramicane  Male          21          16          0   \n",
       "1       k403     Ramicane  Male          21          16          5   \n",
       "2       k403     Ramicane  Male          21          16         10   \n",
       "3       k403     Ramicane  Male          21          16         15   \n",
       "4       k403     Ramicane  Male          21          16         20   \n",
       "..       ...          ...   ...         ...         ...        ...   \n",
       "692     c580     Ketapril  Male          22          25         10   \n",
       "693     c580     Ketapril  Male          22          25         15   \n",
       "694     c580     Ketapril  Male          22          25         20   \n",
       "695     c580     Ketapril  Male          22          25         25   \n",
       "696     c580     Ketapril  Male          22          25         30   \n",
       "\n",
       "     Tumor Volume (mm3)  Metastatic Sites  \n",
       "0             45.000000                 0  \n",
       "1             38.825898                 0  \n",
       "2             35.014271                 1  \n",
       "3             34.223992                 1  \n",
       "4             32.997729                 1  \n",
       "..                  ...               ...  \n",
       "692           47.570174                 1  \n",
       "693           51.991708                 1  \n",
       "694           55.575322                 2  \n",
       "695           56.289062                 2  \n",
       "696           58.046569                 3  \n",
       "\n",
       "[100 rows x 8 columns]"
      ]
     },
     "execution_count": 10,
     "metadata": {},
     "output_type": "execute_result"
    }
   ],
   "source": [
    "#group the data by drug regimen \n",
    "grouped_by_regimen=clean_combined_mouse_data.groupby(by=['Drug Regimen'])\n",
    "grouped_by_regimen.head(10)"
   ]
  },
  {
   "cell_type": "code",
   "execution_count": 11,
   "metadata": {},
   "outputs": [
    {
     "name": "stdout",
     "output_type": "stream",
     "text": [
      "        Mouse ID  Drug Regimen  Age_months  Weight (g)  Timepoint  \\\n",
      "Sex                                                                 \n",
      "Female       930           930         930         930        930   \n",
      "Male         958           958         958         958        958   \n",
      "\n",
      "        Tumor Volume (mm3)  Metastatic Sites  \n",
      "Sex                                           \n",
      "Female                 930               930  \n",
      "Male                   958               958  \n"
     ]
    }
   ],
   "source": [
    "# Calculate the number of males and females in the study\n",
    "male_female_numbers=clean_combined_mouse_data.groupby(by=['Sex']).count()\n",
    "print(male_female_numbers)"
   ]
  },
  {
   "cell_type": "code",
   "execution_count": 12,
   "metadata": {
    "scrolled": true
   },
   "outputs": [
    {
     "data": {
      "text/html": [
       "<div>\n",
       "<style scoped>\n",
       "    .dataframe tbody tr th:only-of-type {\n",
       "        vertical-align: middle;\n",
       "    }\n",
       "\n",
       "    .dataframe tbody tr th {\n",
       "        vertical-align: top;\n",
       "    }\n",
       "\n",
       "    .dataframe thead th {\n",
       "        text-align: right;\n",
       "    }\n",
       "</style>\n",
       "<table border=\"1\" class=\"dataframe\">\n",
       "  <thead>\n",
       "    <tr style=\"text-align: right;\">\n",
       "      <th></th>\n",
       "      <th>Mean</th>\n",
       "      <th>Median</th>\n",
       "      <th>Variance</th>\n",
       "      <th>Std.Deviation</th>\n",
       "      <th>SEM</th>\n",
       "    </tr>\n",
       "    <tr>\n",
       "      <th>Drug Regimen</th>\n",
       "      <th></th>\n",
       "      <th></th>\n",
       "      <th></th>\n",
       "      <th></th>\n",
       "      <th></th>\n",
       "    </tr>\n",
       "  </thead>\n",
       "  <tbody>\n",
       "    <tr>\n",
       "      <th>Capomulin</th>\n",
       "      <td>40.675741</td>\n",
       "      <td>41.557809</td>\n",
       "      <td>24.947764</td>\n",
       "      <td>4.994774</td>\n",
       "      <td>0.329346</td>\n",
       "    </tr>\n",
       "    <tr>\n",
       "      <th>Ceftamin</th>\n",
       "      <td>52.591172</td>\n",
       "      <td>51.776157</td>\n",
       "      <td>39.290177</td>\n",
       "      <td>6.268188</td>\n",
       "      <td>0.469821</td>\n",
       "    </tr>\n",
       "    <tr>\n",
       "      <th>Infubinol</th>\n",
       "      <td>52.884795</td>\n",
       "      <td>51.820584</td>\n",
       "      <td>43.128684</td>\n",
       "      <td>6.567243</td>\n",
       "      <td>0.492236</td>\n",
       "    </tr>\n",
       "    <tr>\n",
       "      <th>Ketapril</th>\n",
       "      <td>55.235638</td>\n",
       "      <td>53.698743</td>\n",
       "      <td>68.553577</td>\n",
       "      <td>8.279709</td>\n",
       "      <td>0.603860</td>\n",
       "    </tr>\n",
       "    <tr>\n",
       "      <th>Naftisol</th>\n",
       "      <td>54.331565</td>\n",
       "      <td>52.509285</td>\n",
       "      <td>66.173479</td>\n",
       "      <td>8.134708</td>\n",
       "      <td>0.596466</td>\n",
       "    </tr>\n",
       "    <tr>\n",
       "      <th>Placebo</th>\n",
       "      <td>54.033581</td>\n",
       "      <td>52.288934</td>\n",
       "      <td>61.168083</td>\n",
       "      <td>7.821003</td>\n",
       "      <td>0.581331</td>\n",
       "    </tr>\n",
       "    <tr>\n",
       "      <th>Propriva</th>\n",
       "      <td>52.393463</td>\n",
       "      <td>50.909965</td>\n",
       "      <td>43.138803</td>\n",
       "      <td>6.568014</td>\n",
       "      <td>0.525862</td>\n",
       "    </tr>\n",
       "    <tr>\n",
       "      <th>Ramicane</th>\n",
       "      <td>40.216745</td>\n",
       "      <td>40.673236</td>\n",
       "      <td>23.486704</td>\n",
       "      <td>4.846308</td>\n",
       "      <td>0.320955</td>\n",
       "    </tr>\n",
       "    <tr>\n",
       "      <th>Stelasyn</th>\n",
       "      <td>54.233149</td>\n",
       "      <td>52.431737</td>\n",
       "      <td>59.450562</td>\n",
       "      <td>7.710419</td>\n",
       "      <td>0.573111</td>\n",
       "    </tr>\n",
       "    <tr>\n",
       "      <th>Zoniferol</th>\n",
       "      <td>53.236507</td>\n",
       "      <td>51.818479</td>\n",
       "      <td>48.533355</td>\n",
       "      <td>6.966589</td>\n",
       "      <td>0.516398</td>\n",
       "    </tr>\n",
       "  </tbody>\n",
       "</table>\n",
       "</div>"
      ],
      "text/plain": [
       "                   Mean     Median   Variance  Std.Deviation       SEM\n",
       "Drug Regimen                                                          \n",
       "Capomulin     40.675741  41.557809  24.947764       4.994774  0.329346\n",
       "Ceftamin      52.591172  51.776157  39.290177       6.268188  0.469821\n",
       "Infubinol     52.884795  51.820584  43.128684       6.567243  0.492236\n",
       "Ketapril      55.235638  53.698743  68.553577       8.279709  0.603860\n",
       "Naftisol      54.331565  52.509285  66.173479       8.134708  0.596466\n",
       "Placebo       54.033581  52.288934  61.168083       7.821003  0.581331\n",
       "Propriva      52.393463  50.909965  43.138803       6.568014  0.525862\n",
       "Ramicane      40.216745  40.673236  23.486704       4.846308  0.320955\n",
       "Stelasyn      54.233149  52.431737  59.450562       7.710419  0.573111\n",
       "Zoniferol     53.236507  51.818479  48.533355       6.966589  0.516398"
      ]
     },
     "execution_count": 12,
     "metadata": {},
     "output_type": "execute_result"
    }
   ],
   "source": [
    "# Generate a summary statistics table of mean, median, variance, standard deviation, and SEM of the tumor volume for each regimen\n",
    "mean_summary=clean_combined_mouse_data.groupby(by=['Drug Regimen'])['Tumor Volume (mm3)'].mean()\n",
    "median_summary=clean_combined_mouse_data.groupby(by=['Drug Regimen'])['Tumor Volume (mm3)'].median()\n",
    "variance_summary=clean_combined_mouse_data.groupby(by=['Drug Regimen'])['Tumor Volume (mm3)'].var()\n",
    "std_dev_summary=clean_combined_mouse_data.groupby(by=['Drug Regimen'])['Tumor Volume (mm3)'].std()\n",
    "sem_summary=clean_combined_mouse_data.groupby(by=['Drug Regimen'])['Tumor Volume (mm3)'].sem()\n",
    "summary_statistics_df=pd.DataFrame({'Mean': mean_summary,\n",
    "                                    'Median': median_summary,\n",
    "                                    'Variance': variance_summary,\n",
    "                                    'Std.Deviation': std_dev_summary,\n",
    "                                    'SEM':sem_summary},\n",
    "                                   index=['Capomulin','Ceftamin','Infubinol','Ketapril','Naftisol','Placebo','Propriva','Ramicane','Stelasyn','Zoniferol'])\n",
    "\n",
    "summary_statistics_df.index.name='Drug Regimen'\n",
    "summary_statistics_df                                   "
   ]
  },
  {
   "cell_type": "code",
   "execution_count": 13,
   "metadata": {},
   "outputs": [
    {
     "name": "stdout",
     "output_type": "stream",
     "text": [
      "Drug Regimen\n",
      "Capomulin    230\n",
      "Ceftamin     178\n",
      "Infubinol    178\n",
      "Ketapril     188\n",
      "Naftisol     186\n",
      "Placebo      181\n",
      "Propriva     156\n",
      "Ramicane     228\n",
      "Stelasyn     181\n",
      "Zoniferol    182\n",
      "Name: Timepoint, dtype: int64\n"
     ]
    }
   ],
   "source": [
    "#Calculate the total number of mice involved in the study \n",
    "number_of_mice_in_study_by_regimen= grouped_by_regimen['Timepoint'].count() \n",
    "print(number_of_mice_in_study_by_regimen)"
   ]
  },
  {
   "cell_type": "code",
   "execution_count": 14,
   "metadata": {},
   "outputs": [
    {
     "name": "stdout",
     "output_type": "stream",
     "text": [
      "Drug Regimen\n",
      "Capomulin    25\n",
      "Ceftamin     25\n",
      "Infubinol    25\n",
      "Ketapril     25\n",
      "Naftisol     25\n",
      "Placebo      25\n",
      "Propriva     25\n",
      "Ramicane     25\n",
      "Stelasyn     24\n",
      "Zoniferol    25\n",
      "Name: Mouse ID, dtype: int64\n"
     ]
    }
   ],
   "source": [
    "# Find relationship between drug regimen and number of mice. \n",
    "number_of_mice_grouped_by_regimen=clean_combined_mouse_data.groupby(by=['Drug Regimen'])['Mouse ID'].nunique()\n",
    "print(number_of_mice_grouped_by_regimen)"
   ]
  },
  {
   "cell_type": "code",
   "execution_count": 15,
   "metadata": {},
   "outputs": [],
   "source": [
    "# Filter the DataFrame down only to those columns to chart\n",
    "regimen_vs_mice_df = grouped_by_regimen[[\"Drug Regimen\",\"Timepoint\"]]"
   ]
  },
  {
   "cell_type": "code",
   "execution_count": 44,
   "metadata": {
    "scrolled": false
   },
   "outputs": [
    {
     "data": {
      "image/png": "[encoded data removed]",
      "text/plain": [
       "<Figure size 432x288 with 1 Axes>"
      ]
     },
     "metadata": {
      "needs_background": "light"
     },
     "output_type": "display_data"
    },
    {
     "data": {
      "text/plain": [
       "<Figure size 432x288 with 0 Axes>"
      ]
     },
     "metadata": {},
     "output_type": "display_data"
    }
   ],
   "source": [
    "# Generate a bar plot showing the total number of mice for each treatment regimen throughout the course of the study using pandas.# Define the data required \n",
    "#Define data\n",
    "regimen_vs_mice_df=pd.DataFrame({'Treatment Regimen': ['Capomulin', 'Ceftamin','Infubinol','Ketapril','Naftisol','Placebo','Propriva','Ramicane','Stelasyn','Zoniferol'],\n",
    "                                 'Total number of mice':[230,178,178,188,186,181,156,228,181,182]})\n",
    "#set the index so drug names will be printed\n",
    "regimen_vs_mice_df1=regimen_vs_mice_df.set_index('Treatment Regimen')\n",
    "\n",
    "#specify how you want the chart to be printed  \n",
    "\n",
    "plt.title('Total mice for each treatment regimen',fontsize=14,color='black')\n",
    "plt.xlabel('Treatment Regimen',fontsize=12,color='black')\n",
    "plt.ylabel('Total number of mice',fontsize=12,color='black')\n",
    "regimen_vs_mice_df1['Total number of mice'].plot(kind='bar',figsize=(6,4),color='b')\n",
    "plt.show()\n",
    "plt.tight_layout()"
   ]
  },
  {
   "cell_type": "code",
   "execution_count": 17,
   "metadata": {},
   "outputs": [
    {
     "data": {
      "image/png": "[encoded data removed]",
      "text/plain": [
       "<Figure size 432x288 with 1 Axes>"
      ]
     },
     "metadata": {
      "needs_background": "light"
     },
     "output_type": "display_data"
    }
   ],
   "source": [
    "# Generate a bar plot showing the total number of mice for each treatment throughout the course of the study using pyplot\n",
    "# Define the new data\n",
    "\n",
    "#magic function inline backend  \n",
    "%matplotlib inline\n",
    "\n",
    "drug_regimen=['Capomulin','Ceftamin','Infubinol','Ketapril','Naftisol','Placebo','Propriva','Ramicane','Stelasyn','Zoniferol']\n",
    "number_of_mice=[230,178,178,188,186,181,156,228,181,182]\n",
    "\n",
    "# Set x axis and tick locations\n",
    "x_axis = np.arange(len(drug_regimen))\n",
    "tick_locations = [value for value in x_axis]\n",
    "\n",
    "# Create a list indicating where to write x labels and set figure size to adjust for space\n",
    "plt.figure(figsize=(6,4))\n",
    "plt.bar(x_axis, number_of_mice, width=.5,alpha=0.5,color=\"b\",align=\"center\")\n",
    "plt.xticks(tick_locations, drug_regimen, rotation=\"vertical\")\n",
    "\n",
    "# Set a Title and labels\n",
    "plt.title(\"Total mice for each treatment regimen\",fontsize=14,color='black')\n",
    "plt.xlabel(\"Treatment Regimen\",fontsize=12,color='black')\n",
    "plt.ylabel(\"Total number of mice\",fontsize=12,color='black')\n",
    "\n",
    "# show the graph\n",
    "plt.show()"
   ]
  },
  {
   "cell_type": "code",
   "execution_count": 18,
   "metadata": {},
   "outputs": [
    {
     "data": {
      "image/png": "[encoded data removed]",
      "text/plain": [
       "<Figure size 324x324 with 1 Axes>"
      ]
     },
     "metadata": {},
     "output_type": "display_data"
    }
   ],
   "source": [
    "#define data for pie plot\n",
    "male_female_data = {'Males and Females in study': [958,930]}\n",
    "male_female_df = pd.DataFrame(male_female_data,columns=['Males and Females in study'],index = ['Male','Female'])\n",
    "#specify the format and plot pie plot\n",
    "male_female_df.plot.pie(y='Males and Females in study',figsize=(4.50, 4.50),autopct='%1.1f%%', startangle=90)\n",
    "plt.show()"
   ]
  },
  {
   "cell_type": "code",
   "execution_count": 19,
   "metadata": {},
   "outputs": [
    {
     "data": {
      "image/png": "[encoded data removed]",
      "text/plain": [
       "<Figure size 288x288 with 1 Axes>"
      ]
     },
     "metadata": {},
     "output_type": "display_data"
    }
   ],
   "source": [
    "#magic function inline backend  \n",
    "%matplotlib inline\n",
    "#define data for pie plot\n",
    "male_female_data1= [958,930]\n",
    "my_labels = ['Male','Female']\n",
    "\n",
    "#specify format and plot pie plot\n",
    "plt.pie(male_female_data1,labels=my_labels,autopct='%1.1f%%',startangle=90)\n",
    "plt.title('Males and Females in study')\n",
    "plt.axis('equal')\n",
    "fig=plt.gcf()\n",
    "fig.set_size_inches(4.0,4.0)\n",
    "plt.show()"
   ]
  },
  {
   "cell_type": "code",
   "execution_count": 20,
   "metadata": {},
   "outputs": [
    {
     "name": "stdout",
     "output_type": "stream",
     "text": [
      "Drug Regimen  Sex   \n",
      "Capomulin     Female    128\n",
      "              Male      102\n",
      "Ceftamin      Female     92\n",
      "              Male       86\n",
      "Infubinol     Female     95\n",
      "              Male       83\n",
      "Ketapril      Male      130\n",
      "              Female     58\n",
      "Naftisol      Male      100\n",
      "              Female     86\n",
      "Placebo       Female    102\n",
      "              Male       79\n",
      "Propriva      Male       87\n",
      "              Female     69\n",
      "Ramicane      Male      154\n",
      "              Female     74\n",
      "Stelasyn      Female    107\n",
      "              Male       74\n",
      "Zoniferol     Female    119\n",
      "              Male       63\n",
      "Name: Sex, dtype: int64\n"
     ]
    }
   ],
   "source": [
    "#Pie plots for each regimen showing male trials and female trials\n",
    "# Filter the DataFrame down only to columns \"Drug Regimen\" and \"Sex\" to chart\n",
    "filter_by_drug_and_sex=clean_combined_mouse_data[['Drug Regimen','Sex']]\n",
    "grouped_by_drug_and_sex=filter_by_drug_and_sex.groupby(by='Drug Regimen')['Sex'].value_counts()\n",
    "print(grouped_by_drug_and_sex)"
   ]
  },
  {
   "cell_type": "code",
   "execution_count": 21,
   "metadata": {},
   "outputs": [
    {
     "data": {
      "text/plain": [
       "<Figure size 216x216 with 0 Axes>"
      ]
     },
     "metadata": {},
     "output_type": "display_data"
    },
    {
     "data": {
      "image/png": "[encoded data removed]",
      "text/plain": [
       "<Figure size 432x288 with 1 Axes>"
      ]
     },
     "metadata": {},
     "output_type": "display_data"
    },
    {
     "data": {
      "image/png": "[encoded data removed]",
      "text/plain": [
       "<Figure size 432x288 with 1 Axes>"
      ]
     },
     "metadata": {},
     "output_type": "display_data"
    },
    {
     "data": {
      "image/png": "[encoded data removed]",
      "text/plain": [
       "<Figure size 432x288 with 1 Axes>"
      ]
     },
     "metadata": {},
     "output_type": "display_data"
    },
    {
     "data": {
      "image/png": "[encoded data removed]",
      "text/plain": [
       "<Figure size 432x288 with 1 Axes>"
      ]
     },
     "metadata": {},
     "output_type": "display_data"
    },
    {
     "data": {
      "image/png": "[encoded data removed]",
      "text/plain": [
       "<Figure size 432x288 with 1 Axes>"
      ]
     },
     "metadata": {},
     "output_type": "display_data"
    },
    {
     "data": {
      "image/png": "[encoded data removed]",
      "text/plain": [
       "<Figure size 432x288 with 1 Axes>"
      ]
     },
     "metadata": {},
     "output_type": "display_data"
    },
    {
     "data": {
      "image/png": "[encoded data removed]",
      "text/plain": [
       "<Figure size 432x288 with 1 Axes>"
      ]
     },
     "metadata": {},
     "output_type": "display_data"
    },
    {
     "data": {
      "image/png": "[encoded data removed]",
      "text/plain": [
       "<Figure size 432x288 with 1 Axes>"
      ]
     },
     "metadata": {},
     "output_type": "display_data"
    },
    {
     "data": {
      "image/png": "[encoded data removed]",
      "text/plain": [
       "<Figure size 432x288 with 1 Axes>"
      ]
     },
     "metadata": {},
     "output_type": "display_data"
    },
    {
     "data": {
      "image/png": "[encoded data removed]",
      "text/plain": [
       "<Figure size 432x288 with 1 Axes>"
      ]
     },
     "metadata": {},
     "output_type": "display_data"
    }
   ],
   "source": [
    "#Distribution of male and female in each drug treatment\n",
    "#magic function inline backend  \n",
    "%matplotlib inline\n",
    "\n",
    "fig=plt.figure(figsize=(3,3))\n",
    "\n",
    "my_labels = ['Male','Female']\n",
    "\n",
    "#plot pie chart for male female distribution for Capomulin\n",
    "ratio1=[102,128]\n",
    "fig1,ax1=plt.subplots()\n",
    "ax1.pie(ratio1,labels=my_labels,autopct='%1.1f%%',startangle=90,radius=100)\n",
    "plt.title('Capomulin')\n",
    "ax1.axis('equal')\n",
    "\n",
    "ratio2=[86,92]\n",
    "fig2,ax2=plt.subplots()\n",
    "ax2.pie(ratio2,labels=my_labels,autopct='%1.1f%%',startangle=90)\n",
    "plt.title('Ceftamin')\n",
    "ax2.axis('equal')\n",
    "\n",
    "ratio3=[83,95]\n",
    "fig3,ax3=plt.subplots()\n",
    "ax3.pie(ratio3,labels=my_labels,autopct='%1.1f%%',startangle=90)\n",
    "plt.title('Infubinol')\n",
    "ax3.axis('equal')\n",
    "\n",
    "ratio4=[130,58]\n",
    "fig4,ax4=plt.subplots()\n",
    "ax4.pie(ratio4,labels=my_labels,autopct='%1.1f%%',startangle=90)\n",
    "plt.title('Ketapril')\n",
    "ax4.axis('equal')\n",
    "\n",
    "ratio5=[100,86]\n",
    "fig5,ax5=plt.subplots()\n",
    "ax5.pie(ratio5,labels=my_labels,autopct='%1.1f%%',startangle=90)\n",
    "plt.title('Naftisol')\n",
    "ax5.axis('equal')\n",
    "\n",
    "ratio6=[79,102]\n",
    "fig6,ax6=plt.subplots()\n",
    "ax6.pie(ratio6,labels=my_labels,autopct='%1.1f%%',startangle=90)\n",
    "plt.title('Placebo')\n",
    "ax6.axis('equal')\n",
    "\n",
    "ratio7=[87,69]\n",
    "fig7,ax7=plt.subplots()\n",
    "ax7.pie(ratio7,labels=my_labels,autopct='%1.1f%%',startangle=90)\n",
    "plt.title('Propriva')\n",
    "ax7.axis('equal')\n",
    "\n",
    "ratio8=[154,74]\n",
    "fig8,ax8=plt.subplots()\n",
    "ax8.pie(ratio8,labels=my_labels,autopct='%1.1f%%',startangle=90)\n",
    "plt.title('Ramicane')\n",
    "ax8.axis('equal')\n",
    "\n",
    "ratio9=[74,107]\n",
    "fig9,ax9=plt.subplots()\n",
    "ax9.pie(ratio9,labels=my_labels,autopct='%1.1f%%',startangle=90)\n",
    "plt.title('Stelasyn')\n",
    "ax9.axis('equal')\n",
    "\n",
    "ratio10=[63,119]\n",
    "fig10,ax10=plt.subplots()\n",
    "ax10.pie(ratio10,labels=my_labels,autopct='%1.1f%%',startangle=90)\n",
    "plt.title('Zoniferol')\n",
    "ax10.axis('equal')\n",
    "\n",
    "plt.show()"
   ]
  },
  {
   "cell_type": "code",
   "execution_count": 22,
   "metadata": {},
   "outputs": [
    {
     "data": {
      "image/png": "[encoded data removed]",
      "text/plain": [
       "<Figure size 3600x1800 with 10 Axes>"
      ]
     },
     "metadata": {},
     "output_type": "display_data"
    }
   ],
   "source": [
    "df2=pd.DataFrame({'Capomulin':[102,128],'Ceftamin':[86,92], 'Infubinol': [83,95],'Ketapril': [130,58],'Naftisol':[100,86], \n",
    "                              'Placebo': [79,102],'Propriva':[87,69],'Ramicane':[154,74],'Stelasyn':[74,107],'Zoniferol':[63,119]},\n",
    "                   index=['Male','Female'])  \n",
    "plot=df2.plot.pie(subplots=True,figsize=(50,25),autopct='%1.1f%%',startangle=90)"
   ]
  },
  {
   "cell_type": "code",
   "execution_count": 23,
   "metadata": {},
   "outputs": [
    {
     "name": "stdout",
     "output_type": "stream",
     "text": [
      "    Mouse ID Drug Regimen     Sex  Age_months  Weight (g)  Timepoint  \\\n",
      "313     j246    Capomulin  Female          21          21         15   \n",
      "\n",
      "     Tumor Volume (mm3)  Metastatic Sites  \n",
      "313           43.312654                 0  \n"
     ]
    }
   ],
   "source": [
    "# Selecting a mouse with Capomulin as treatment regimen\n",
    "# This will change every time you run this In[]\n",
    "capomulin_select=clean_combined_mouse_data[clean_combined_mouse_data['Drug Regimen']=='Capomulin']\n",
    "sample_select=capomulin_select.sample()\n",
    "print(sample_select)"
   ]
  },
  {
   "cell_type": "code",
   "execution_count": 24,
   "metadata": {},
   "outputs": [
    {
     "name": "stdout",
     "output_type": "stream",
     "text": [
      "    Mouse ID Drug Regimen     Sex  Age_months  Weight (g)  Timepoint  \\\n",
      "155     t565    Capomulin  Female          20          17          0   \n",
      "156     t565    Capomulin  Female          20          17          5   \n",
      "157     t565    Capomulin  Female          20          17         10   \n",
      "158     t565    Capomulin  Female          20          17         15   \n",
      "159     t565    Capomulin  Female          20          17         20   \n",
      "160     t565    Capomulin  Female          20          17         25   \n",
      "161     t565    Capomulin  Female          20          17         30   \n",
      "162     t565    Capomulin  Female          20          17         35   \n",
      "163     t565    Capomulin  Female          20          17         40   \n",
      "164     t565    Capomulin  Female          20          17         45   \n",
      "\n",
      "     Tumor Volume (mm3)  Metastatic Sites  \n",
      "155           45.000000                 0  \n",
      "156           45.895647                 0  \n",
      "157           46.749006                 0  \n",
      "158           44.440949                 0  \n",
      "159           39.070214                 0  \n",
      "160           37.342210                 0  \n",
      "161           32.868916                 0  \n",
      "162           33.515671                 0  \n",
      "163           33.949341                 0  \n",
      "164           34.455298                 0  \n"
     ]
    }
   ],
   "source": [
    "#Get study data for t565 mouse\n",
    "t565=clean_combined_mouse_data[clean_combined_mouse_data['Mouse ID']=='t565']\n",
    "print(t565)"
   ]
  },
  {
   "cell_type": "code",
   "execution_count": 25,
   "metadata": {},
   "outputs": [
    {
     "data": {
      "image/png": "[encoded data removed]",
      "text/plain": [
       "<Figure size 648x216 with 1 Axes>"
      ]
     },
     "metadata": {
      "needs_background": "light"
     },
     "output_type": "display_data"
    }
   ],
   "source": [
    "#Generate a line plot of time point versus tumor volume for a mouse treated with Capomulin\n",
    "#magic function inline backend\n",
    "%matplotlib inline\n",
    "\n",
    "#define data for line plot\n",
    "time_point=[0,5,10,15,20,25,30,35,40,45]\n",
    "tumor_volume=[45.000000,45.895647,46.749006,44.440949,39.070214,37.342210,32.868916,33.515671,33.949341,34.455298]\n",
    "\n",
    "#specify the format and draw line plot\n",
    "plt.figure(figsize=(9,3))\n",
    "plt.plot(time_point, tumor_volume)\n",
    "plt.suptitle('Tumor Volume Vs Time Point for Mouse ID t565 with Capomulin treatment')\n",
    "plt.xlabel('Time Point')\n",
    "plt.ylabel('Tumor Volume')\n",
    "plt.show()"
   ]
  },
  {
   "cell_type": "code",
   "execution_count": 26,
   "metadata": {},
   "outputs": [
    {
     "name": "stdout",
     "output_type": "stream",
     "text": [
      "Mouse ID\n",
      "b128    41.963636\n",
      "b742    40.083699\n",
      "f966    36.505973\n",
      "g288    41.990097\n",
      "g316    44.613344\n",
      "i557    44.805810\n",
      "i738    39.141053\n",
      "j119    44.465236\n",
      "j246    43.216925\n",
      "l509    44.434474\n",
      "l897    42.507261\n",
      "m601    34.847470\n",
      "m957    39.049816\n",
      "r157    45.798970\n",
      "r554    36.509212\n",
      "r944    43.367364\n",
      "s185    34.559143\n",
      "s710    42.803733\n",
      "t565    39.328725\n",
      "u364    39.887495\n",
      "v923    41.581595\n",
      "w150    41.384825\n",
      "w914    41.352452\n",
      "x401    36.182040\n",
      "y793    38.506829\n",
      "Name: Tumor Volume (mm3), dtype: float64\n"
     ]
    }
   ],
   "source": [
    "#calculate tumor volume by Mouse ID for Capomulin\n",
    "capomulin_select_by_id=capomulin_select.groupby(by=['Mouse ID'])['Tumor Volume (mm3)'].mean()\n",
    "print(capomulin_select_by_id)"
   ]
  },
  {
   "cell_type": "code",
   "execution_count": 27,
   "metadata": {},
   "outputs": [
    {
     "name": "stdout",
     "output_type": "stream",
     "text": [
      "Mouse ID\n",
      "b128    22\n",
      "b742    21\n",
      "f966    17\n",
      "g288    19\n",
      "g316    22\n",
      "i557    24\n",
      "i738    20\n",
      "j119    23\n",
      "j246    21\n",
      "l509    21\n",
      "l897    19\n",
      "m601    17\n",
      "m957    19\n",
      "r157    25\n",
      "r554    17\n",
      "r944    25\n",
      "s185    17\n",
      "s710    23\n",
      "t565    17\n",
      "u364    17\n",
      "v923    21\n",
      "w150    23\n",
      "w914    21\n",
      "x401    15\n",
      "y793    17\n",
      "Name: Weight (g), dtype: int64\n"
     ]
    }
   ],
   "source": [
    "#calculate weight of mouse by Mouse ID in Capomulin study\n",
    "capomulin_select_by_weight=capomulin_select.groupby(by=['Mouse ID'])['Weight (g)'].max()\n",
    "print(capomulin_select_by_weight)"
   ]
  },
  {
   "cell_type": "code",
   "execution_count": 28,
   "metadata": {},
   "outputs": [
    {
     "data": {
      "image/png": "[encoded data removed]",
      "text/plain": [
       "<Figure size 432x288 with 1 Axes>"
      ]
     },
     "metadata": {
      "needs_background": "light"
     },
     "output_type": "display_data"
    }
   ],
   "source": [
    "#Generate a scatter plot of mouse weight versus average tumor volume for the Capomulin regimen\n",
    "#magic function inline backend\n",
    "%matplotlib inline\n",
    "\n",
    "#define data for scatter plot\n",
    "mouse_weight=[22,21,17,19,22,24,20,23,21,21,19,17,19,25,17,25,17,23,17,17,21,23,21,15,17]\n",
    "average_tumor_volume=[41.963636,40.083699,36.505973,41.990097,44.613344,44.805810,39.141053,44.465236,43.216925,\n",
    "    44.434474,42.507261,34.847470,39.049816,45.798970,36.509212,43.367364,34.559143,42.803733,\n",
    "    39.328725,39.887495,41.581595,41.384825,41.352452,36.182040,38.506829]\n",
    "\n",
    "#specify the format and plot scatter plot\n",
    "plt.xlabel('mouse weight', fontsize=16)\n",
    "plt.ylabel('average tumor volume', fontsize=16)\n",
    "plt.title('Mouse Weight vs Average Tumor Volume scatter plot',fontsize=20)\n",
    "plt.scatter(mouse_weight, average_tumor_volume, marker=\"o\", facecolors=\"black\", edgecolors=\"black\",\n",
    "            s=mouse_weight, alpha=0.75)\n",
    "plt.show()"
   ]
  },
  {
   "cell_type": "code",
   "execution_count": 29,
   "metadata": {},
   "outputs": [
    {
     "name": "stdout",
     "output_type": "stream",
     "text": [
      "The correlation coefficient between mouse weight and average tumor volume is 0.84\n"
     ]
    }
   ],
   "source": [
    "#Calculate the correlation coefficient\n",
    "correlation=st.pearsonr(mouse_weight,average_tumor_volume)\n",
    "print(f\"The correlation coefficient between mouse weight and average tumor volume is {round(correlation[0],2)}\")"
   ]
  },
  {
   "cell_type": "code",
   "execution_count": 32,
   "metadata": {
    "scrolled": true
   },
   "outputs": [
    {
     "name": "stdout",
     "output_type": "stream",
     "text": [
      "The equation of the regression line is: y=0.95x + 21.55\n"
     ]
    },
    {
     "data": {
      "image/png": "[encoded data removed]",
      "text/plain": [
       "<Figure size 432x288 with 1 Axes>"
      ]
     },
     "metadata": {
      "needs_background": "light"
     },
     "output_type": "display_data"
    }
   ],
   "source": [
    "# Add the linear regression equation and line to the scatter plot\n",
    "x_values = mouse_weight\n",
    "y_values = average_tumor_volume\n",
    "(slope, intercept, rvalue, pvalue, stderr) = linregress(x_values, y_values)\n",
    "regress_values = np.array(x_values) * slope + np.array(intercept)\n",
    "line_eq =f'y={str(round(slope,2))}x + {str(round(intercept,2))}'\n",
    "plt.plot(x_values,regress_values,\"r-\")\n",
    "plt.annotate(line_eq,(6,10),fontsize=15,color=\"red\")\n",
    "plt.xlabel('mouse weight', fontsize=16)\n",
    "plt.ylabel('average tumor volume', fontsize=16)\n",
    "plt.title('Mouse Weight vs Average Tumor Volume scatter plot',fontsize=20)\n",
    "plt.scatter(x_values, y_values, marker=\"o\", facecolors=\"black\", edgecolors=\"black\",\n",
    "            s=mouse_weight, alpha=0.75)\n",
    "print(f\"The equation of the regression line is: {line_eq}\")\n",
    "plt.show()"
   ]
  },
  {
   "cell_type": "code",
   "execution_count": 33,
   "metadata": {},
   "outputs": [],
   "source": [
    "#We are only selecting the most promising drug candidates Capomulin,Ramicane,Infubinol and Ceftamin\n",
    "capomulin_select=clean_combined_mouse_data[clean_combined_mouse_data['Drug Regimen']=='Capomulin']\n",
    "ramicane_select=clean_combined_mouse_data[clean_combined_mouse_data['Drug Regimen']=='Ramicane']\n",
    "infubinol_select=clean_combined_mouse_data[clean_combined_mouse_data['Drug Regimen']=='Infubinol']\n",
    "ceftamin_select=clean_combined_mouse_data[clean_combined_mouse_data['Drug Regimen']=='Ceftamin']"
   ]
  },
  {
   "cell_type": "code",
   "execution_count": 34,
   "metadata": {},
   "outputs": [
    {
     "name": "stdout",
     "output_type": "stream",
     "text": [
      "     Mouse ID Drug Regimen     Sex  Age_months  Weight (g)  Timepoint  \\\n",
      "19       s185    Capomulin  Female           3          17         45   \n",
      "39       m601    Capomulin    Male          22          17         45   \n",
      "29       x401    Capomulin  Female          16          15         45   \n",
      "64       f966    Capomulin    Male          16          17         20   \n",
      "104      u364    Capomulin    Male          18          17         45   \n",
      "124      y793    Capomulin    Male          17          17         45   \n",
      "134      r554    Capomulin  Female           8          17         45   \n",
      "144      m957    Capomulin  Female           3          19         45   \n",
      "164      t565    Capomulin  Female          20          17         45   \n",
      "224      w914    Capomulin    Male          24          21         45   \n",
      "244      g288    Capomulin    Male           3          19         45   \n",
      "204      i738    Capomulin  Female          23          20         45   \n",
      "337      j119    Capomulin  Female           7          23         45   \n",
      "317      j246    Capomulin  Female          21          21         35   \n",
      "282      l897    Capomulin    Male          17          19         45   \n",
      "299      b742    Capomulin    Male           7          21         45   \n",
      "309      b128    Capomulin  Female           9          22         45   \n",
      "340      w150    Capomulin    Male          23          23         10   \n",
      "360      g316    Capomulin  Female          22          22         45   \n",
      "350      v923    Capomulin  Female          19          21         45   \n",
      "370      s710    Capomulin  Female           1          23         45   \n",
      "380      l509    Capomulin    Male          17          21         45   \n",
      "390      r944    Capomulin    Male          12          25         45   \n",
      "1455     r157    Capomulin    Male          22          25         15   \n",
      "440      i557    Capomulin  Female           1          24         45   \n",
      "\n",
      "      Tumor Volume (mm3)  Metastatic Sites  \n",
      "19             23.343598                 1  \n",
      "39             28.430964                 1  \n",
      "29             28.484033                 0  \n",
      "64             30.485985                 0  \n",
      "104            31.023923                 3  \n",
      "124            31.896238                 2  \n",
      "134            32.377357                 3  \n",
      "144            33.329098                 1  \n",
      "164            34.455298                 0  \n",
      "224            36.041047                 2  \n",
      "244            37.074024                 1  \n",
      "204            37.311846                 2  \n",
      "337            38.125164                 1  \n",
      "317            38.753265                 1  \n",
      "282            38.846876                 1  \n",
      "299            38.939633                 0  \n",
      "309            38.982878                 2  \n",
      "340            39.952347                 0  \n",
      "360            40.159220                 2  \n",
      "350            40.658124                 2  \n",
      "370            40.728578                 1  \n",
      "380            41.483008                 3  \n",
      "390            41.581521                 2  \n",
      "1455           46.539206                 0  \n",
      "440            47.685963                 1  \n"
     ]
    }
   ],
   "source": [
    "#Calculate and sort final tumor volumes for Capomulin \n",
    "capomulin_final_tumor_volumes=capomulin_select.loc[capomulin_select.groupby('Mouse ID').Timepoint.idxmax()]\n",
    "capomulin_sorted=capomulin_final_tumor_volumes.sort_values(by=['Tumor Volume (mm3)'])\n",
    "print(capomulin_sorted)"
   ]
  },
  {
   "cell_type": "code",
   "execution_count": 35,
   "metadata": {},
   "outputs": [
    {
     "name": "stdout",
     "output_type": "stream",
     "text": [
      "    Mouse ID Drug Regimen     Sex  Age_months  Weight (g)  Timepoint  \\\n",
      "9       k403     Ramicane    Male          21          16         45   \n",
      "49      g791     Ramicane    Male          11          16         45   \n",
      "59      s508     Ramicane    Male           1          17         45   \n",
      "74      m546     Ramicane    Male          18          16         45   \n",
      "84      z578     Ramicane    Male          11          16         45   \n",
      "114     n364     Ramicane    Male           4          17         45   \n",
      "94      j913     Ramicane  Female           4          17         45   \n",
      "174     a644     Ramicane  Female           7          17         45   \n",
      "154     c758     Ramicane    Male           9          17         45   \n",
      "184     i177     Ramicane    Male          10          18         45   \n",
      "194     j989     Ramicane    Male           8          19         45   \n",
      "254     i334     Ramicane  Female           8          20         45   \n",
      "262     q610     Ramicane  Female          18          21         35   \n",
      "234     r811     Ramicane    Male           9          19         45   \n",
      "272     d251     Ramicane  Female           8          19         45   \n",
      "289     c458     Ramicane  Female          23          20         30   \n",
      "327     a411     Ramicane    Male           3          22         45   \n",
      "214     a520     Ramicane    Male          13          21         45   \n",
      "400     e662     Ramicane    Male           8          24         45   \n",
      "410     u196     Ramicane    Male          18          25         45   \n",
      "430     a444     Ramicane  Female          10          25         45   \n",
      "449     w678     Ramicane  Female           5          24          5   \n",
      "447     r921     Ramicane  Female           5          25         30   \n",
      "453     y449     Ramicane    Male          19          24         15   \n",
      "420     q597     Ramicane    Male          20          25         45   \n",
      "\n",
      "     Tumor Volume (mm3)  Metastatic Sites  \n",
      "9             22.050126                 1  \n",
      "49            29.128472                 1  \n",
      "59            30.276232                 0  \n",
      "74            30.564625                 1  \n",
      "84            30.638696                 0  \n",
      "114           31.095335                 1  \n",
      "94            31.560470                 1  \n",
      "174           32.978522                 1  \n",
      "154           33.397653                 1  \n",
      "184           33.562402                 3  \n",
      "194           36.134852                 1  \n",
      "254           36.374510                 2  \n",
      "262           36.561652                 2  \n",
      "234           37.225650                 1  \n",
      "272           37.311236                 2  \n",
      "289           38.342008                 2  \n",
      "327           38.407618                 1  \n",
      "214           38.810366                 1  \n",
      "400           40.659006                 2  \n",
      "410           40.667713                 3  \n",
      "430           43.047543                 0  \n",
      "449           43.166373                 0  \n",
      "447           43.419381                 1  \n",
      "453           44.183451                 0  \n",
      "420           45.220869                 2  \n"
     ]
    }
   ],
   "source": [
    "#Calculate and sort final tumor volumes for Ramicane \n",
    "ramicane_final_tumor_volumes=ramicane_select.loc[ramicane_select.groupby('Mouse ID').Timepoint.idxmax()]\n",
    "ramicane_sorted=ramicane_final_tumor_volumes.sort_values(by=['Tumor Volume (mm3)'])\n",
    "print(ramicane_sorted)"
   ]
  },
  {
   "cell_type": "code",
   "execution_count": 36,
   "metadata": {
    "scrolled": true
   },
   "outputs": [
    {
     "name": "stdout",
     "output_type": "stream",
     "text": [
      "     Mouse ID Drug Regimen     Sex  Age_months  Weight (g)  Timepoint  \\\n",
      "669      c326    Infubinol  Female          18          25          5   \n",
      "1314     o813    Infubinol    Male          24          28          5   \n",
      "1616     v339    Infubinol    Male          20          26          5   \n",
      "1205     m756    Infubinol    Male          19          30          5   \n",
      "1683     w193    Infubinol    Male          22          30         20   \n",
      "1640     v766    Infubinol    Male          16          27         15   \n",
      "1632     v719    Infubinol  Female          17          30         20   \n",
      "1397     q132    Infubinol  Female           1          30         30   \n",
      "1312     o809    Infubinol    Male           3          25         35   \n",
      "1485     s121    Infubinol    Male          23          26         25   \n",
      "530      a577    Infubinol  Female           6          25         30   \n",
      "1726     w584    Infubinol    Male           3          29         30   \n",
      "1225     n671    Infubinol    Male          18          25         30   \n",
      "834      f345    Infubinol    Male          23          26         45   \n",
      "742      c895    Infubinol  Female           7          29         30   \n",
      "1076     k804    Infubinol  Female          23          29         35   \n",
      "800      e476    Infubinol    Male          23          26         45   \n",
      "1872     z581    Infubinol  Female          24          25         45   \n",
      "473      a251    Infubinol  Female          21          25         45   \n",
      "540      a685    Infubinol    Male           8          30         45   \n",
      "1053     k483    Infubinol  Female          20          30         45   \n",
      "949      i386    Infubinol  Female          23          29         40   \n",
      "1813     y163    Infubinol  Female          17          27         45   \n",
      "463      a203    Infubinol  Female          20          23         45   \n",
      "637      c139    Infubinol    Male          11          28         45   \n",
      "\n",
      "      Tumor Volume (mm3)  Metastatic Sites  \n",
      "669            36.321346                 0  \n",
      "1314           45.699331                 0  \n",
      "1616           46.250112                 0  \n",
      "1205           47.010364                 1  \n",
      "1683           50.005138                 0  \n",
      "1640           51.542431                 1  \n",
      "1632           54.048608                 1  \n",
      "1397           54.656549                 4  \n",
      "1312           55.629428                 1  \n",
      "1485           55.650681                 2  \n",
      "530            57.031862                 2  \n",
      "1726           58.268442                 1  \n",
      "1225           60.165180                 0  \n",
      "834            60.918767                 1  \n",
      "742            60.969711                 2  \n",
      "1076           62.117279                 2  \n",
      "800            62.435404                 1  \n",
      "1872           62.754451                 3  \n",
      "473            65.525743                 1  \n",
      "540            66.083066                 3  \n",
      "1053           66.196912                 3  \n",
      "949            67.289621                 4  \n",
      "1813           67.685569                 3  \n",
      "463            67.973419                 2  \n",
      "637            72.226731                 2  \n"
     ]
    }
   ],
   "source": [
    "#Calculate and sort final tumor volumes for Infubinol \n",
    "infubinol_final_tumor_volumes=infubinol_select.loc[infubinol_select.groupby('Mouse ID').Timepoint.idxmax()]\n",
    "infubinol_sorted=infubinol_final_tumor_volumes.sort_values(by=['Tumor Volume (mm3)'])\n",
    "print(infubinol_sorted)"
   ]
  },
  {
   "cell_type": "code",
   "execution_count": 37,
   "metadata": {
    "scrolled": true
   },
   "outputs": [
    {
     "name": "stdout",
     "output_type": "stream",
     "text": [
      "     Mouse ID Drug Regimen     Sex  Age_months  Weight (g)  Timepoint  \\\n",
      "1743     x226     Ceftamin    Male          23          28          0   \n",
      "594      b447     Ceftamin    Male           2          30          0   \n",
      "1583     u153     Ceftamin  Female          11          25          0   \n",
      "1551     t573     Ceftamin  Female          15          27          0   \n",
      "1122     l558     Ceftamin  Female          13          30         10   \n",
      "940      h531     Ceftamin    Male           5          27          5   \n",
      "840      f436     Ceftamin  Female           3          25         15   \n",
      "1582     u149     Ceftamin    Male          24          29         25   \n",
      "617      b759     Ceftamin  Female          12          25         30   \n",
      "600      b487     Ceftamin  Female           6          28         25   \n",
      "1119     l490     Ceftamin    Male          24          26         30   \n",
      "1260     o287     Ceftamin    Male           2          28         45   \n",
      "1132     l661     Ceftamin    Male          18          26         45   \n",
      "1797     x822     Ceftamin    Male           3          29         45   \n",
      "1379     p438     Ceftamin  Female          11          26         45   \n",
      "993      j296     Ceftamin  Female          24          30         45   \n",
      "493      a275     Ceftamin  Female          20          28         45   \n",
      "1406     q483     Ceftamin    Male           6          26         40   \n",
      "1162     l733     Ceftamin  Female           4          30         45   \n",
      "1773     x581     Ceftamin  Female          19          28         45   \n",
      "1855     y865     Ceftamin    Male          23          26         45   \n",
      "1670     w151     Ceftamin    Male          24          25         45   \n",
      "1112     l471     Ceftamin  Female           7          28         45   \n",
      "1845     y769     Ceftamin  Female           6          27         45   \n",
      "1033     k210     Ceftamin    Male          15          28         45   \n",
      "\n",
      "      Tumor Volume (mm3)  Metastatic Sites  \n",
      "1743           45.000000                 0  \n",
      "594            45.000000                 0  \n",
      "1583           45.000000                 0  \n",
      "1551           45.000000                 0  \n",
      "1122           46.784535                 0  \n",
      "940            47.784682                 0  \n",
      "840            48.722078                 2  \n",
      "1582           52.925348                 0  \n",
      "617            55.742829                 1  \n",
      "600            56.057749                 1  \n",
      "1119           57.918381                 3  \n",
      "1260           59.741901                 4  \n",
      "1132           59.851956                 3  \n",
      "1797           61.386660                 3  \n",
      "1379           61.433892                 1  \n",
      "993            61.849023                 3  \n",
      "493            62.999356                 3  \n",
      "1406           64.192341                 1  \n",
      "1162           64.299830                 1  \n",
      "1773           64.634949                 3  \n",
      "1855           64.729837                 3  \n",
      "1670           67.527482                 3  \n",
      "1112           67.748662                 1  \n",
      "1845           68.594745                 4  \n",
      "1033           68.923185                 3  \n"
     ]
    }
   ],
   "source": [
    "#Calculate and sort final tumor volumes for Ceftamin \n",
    "ceftamin_final_tumor_volumes=ceftamin_select.loc[ceftamin_select.groupby('Mouse ID').Timepoint.idxmax()]\n",
    "ceftamin_sorted=ceftamin_final_tumor_volumes.sort_values(by=['Tumor Volume (mm3)'])\n",
    "print(ceftamin_sorted)"
   ]
  },
  {
   "cell_type": "code",
   "execution_count": 38,
   "metadata": {},
   "outputs": [],
   "source": [
    "capomulin_volumes=capomulin_sorted['Tumor Volume (mm3)']\n",
    "ramicane_volumes=ramicane_sorted['Tumor Volume (mm3)']\n",
    "infubinol_volumes=infubinol_sorted['Tumor Volume (mm3)']\n",
    "ceftamin_volumes=ceftamin_sorted['Tumor Volume (mm3)']"
   ]
  },
  {
   "cell_type": "code",
   "execution_count": 39,
   "metadata": {},
   "outputs": [
    {
     "name": "stdout",
     "output_type": "stream",
     "text": [
      "The lower quartile of tumor volumes for Capomulin  is: 32.37735684\n",
      "The upper quartile of tumor volumes for Capomulin is: 40.1592203\n",
      "The interquartile range of tumor volumes for Capomulin is: 7.781863460000004\n",
      "The median of temperatures is: 38.125164399999996 \n",
      "Values below 20.70456164999999 could be outliers.\n",
      "Values above 51.83201549 could be outliers.\n"
     ]
    }
   ],
   "source": [
    "# we use pandas to give quartile calculations for Capomulin\n",
    "quartiles_capomulin = capomulin_volumes.quantile([.25,.5,.75])\n",
    "lowerq_capomulin = quartiles_capomulin[0.25]\n",
    "upperq_capomulin = quartiles_capomulin[0.75]\n",
    "iqr_capomulin = upperq_capomulin-lowerq_capomulin\n",
    "\n",
    "#print the quartlies for Capomulin\n",
    "print(f\"The lower quartile of tumor volumes for Capomulin  is: {lowerq_capomulin}\")\n",
    "print(f\"The upper quartile of tumor volumes for Capomulin is: {upperq_capomulin}\")\n",
    "print(f\"The interquartile range of tumor volumes for Capomulin is: {iqr_capomulin}\")\n",
    "print(f\"The median of temperatures is: {quartiles_capomulin[0.5]} \")\n",
    "\n",
    "lower_bound_capomulin = lowerq_capomulin - (1.5*iqr_capomulin)\n",
    "upper_bound_capomulin = upperq_capomulin + (1.5*iqr_capomulin)\n",
    "print(f\"Values below {lower_bound_capomulin} could be outliers.\")\n",
    "print(f\"Values above {upper_bound_capomulin} could be outliers.\")"
   ]
  },
  {
   "cell_type": "code",
   "execution_count": 40,
   "metadata": {},
   "outputs": [
    {
     "name": "stdout",
     "output_type": "stream",
     "text": [
      "The lower quartile of tumor volumes for Ramicane  is: 31.56046955\n",
      "The upper quartile of tumor volumes for Ramicane is: 40.65900627\n",
      "The interquartile range of tumor volumes for Ramicane is: 9.098536719999998\n",
      "The median of temperatures is: 36.56165229 \n",
      "Values below 17.912664470000003 could be outliers.\n",
      "Values above 54.30681135 could be outliers.\n"
     ]
    }
   ],
   "source": [
    "# we use pandas to give quartile calculations for Ramicane\n",
    "quartiles_ramicane = ramicane_volumes.quantile([.25,.5,.75])\n",
    "lowerq_ramicane = quartiles_ramicane[0.25]\n",
    "upperq_ramicane = quartiles_ramicane[0.75]\n",
    "iqr_ramicane = upperq_ramicane-lowerq_ramicane\n",
    "\n",
    "#print the quartlies for Ramicane\n",
    "print(f\"The lower quartile of tumor volumes for Ramicane  is: {lowerq_ramicane}\")\n",
    "print(f\"The upper quartile of tumor volumes for Ramicane is: {upperq_ramicane}\")\n",
    "print(f\"The interquartile range of tumor volumes for Ramicane is: {iqr_ramicane}\")\n",
    "print(f\"The median of temperatures is: {quartiles_ramicane[0.5]} \")\n",
    "\n",
    "lower_bound_ramicane = lowerq_ramicane - (1.5*iqr_ramicane)\n",
    "upper_bound_ramicane = upperq_ramicane + (1.5*iqr_ramicane)\n",
    "print(f\"Values below {lower_bound_ramicane} could be outliers.\")\n",
    "print(f\"Values above {upper_bound_ramicane} could be outliers.\")"
   ]
  },
  {
   "cell_type": "code",
   "execution_count": 41,
   "metadata": {},
   "outputs": [
    {
     "name": "stdout",
     "output_type": "stream",
     "text": [
      "The lower quartile of tumor volumes for Infubinol  is: 54.04860769\n",
      "The upper quartile of tumor volumes for Infubinol is: 65.52574285\n",
      "The interquartile range of tumor volumes for Infubinol is: 11.477135160000003\n",
      "The median of temperatures is: 60.16518046 \n",
      "Values below 36.83290494999999 could be outliers.\n",
      "Values above 82.74144559000001 could be outliers.\n"
     ]
    }
   ],
   "source": [
    "# we use pandas to give quartile calculations for Infubinol\n",
    "quartiles_infubinol = infubinol_volumes.quantile([.25,.5,.75])\n",
    "lowerq_infubinol = quartiles_infubinol[0.25]\n",
    "upperq_infubinol = quartiles_infubinol[0.75]\n",
    "iqr_infubinol = upperq_infubinol-lowerq_infubinol\n",
    "\n",
    "#print the quartlies for Infubinol\n",
    "print(f\"The lower quartile of tumor volumes for Infubinol  is: {lowerq_infubinol}\")\n",
    "print(f\"The upper quartile of tumor volumes for Infubinol is: {upperq_infubinol}\")\n",
    "print(f\"The interquartile range of tumor volumes for Infubinol is: {iqr_infubinol}\")\n",
    "print(f\"The median of temperatures is: {quartiles_infubinol[0.5]} \")\n",
    "\n",
    "lower_bound_infubinol = lowerq_infubinol - (1.5*iqr_infubinol)\n",
    "upper_bound_infubinol = upperq_infubinol + (1.5*iqr_infubinol)\n",
    "print(f\"Values below {lower_bound_infubinol} could be outliers.\")\n",
    "print(f\"Values above {upper_bound_infubinol} could be outliers.\")"
   ]
  },
  {
   "cell_type": "code",
   "execution_count": 42,
   "metadata": {},
   "outputs": [
    {
     "name": "stdout",
     "output_type": "stream",
     "text": [
      "The lower quartile of tumor volumes for Ceftamin  is: 48.72207785\n",
      "The upper quartile of tumor volumes for Ceftamin is: 64.29983003\n",
      "The interquartile range of tumor volumes for Ceftamin is: 15.577752179999997\n",
      "The median of temperatures is: 59.85195552 \n",
      "Values below 25.355449580000002 could be outliers.\n",
      "Values above 87.66645829999999 could be outliers.\n"
     ]
    }
   ],
   "source": [
    "# we use pandas to give quartile calculations for Ceftamin\n",
    "quartiles_ceftamin = ceftamin_volumes.quantile([.25,.5,.75])\n",
    "lowerq_ceftamin = quartiles_ceftamin[0.25]\n",
    "upperq_ceftamin = quartiles_ceftamin[0.75]\n",
    "iqr_ceftamin = upperq_ceftamin-lowerq_ceftamin\n",
    "\n",
    "#print the quartlies for ceftamin\n",
    "print(f\"The lower quartile of tumor volumes for Ceftamin  is: {lowerq_ceftamin}\")\n",
    "print(f\"The upper quartile of tumor volumes for Ceftamin is: {upperq_ceftamin}\")\n",
    "print(f\"The interquartile range of tumor volumes for Ceftamin is: {iqr_ceftamin}\")\n",
    "print(f\"The median of temperatures is: {quartiles_ceftamin[0.5]} \")\n",
    "\n",
    "lower_bound_ceftamin = lowerq_ceftamin - (1.5*iqr_ceftamin)\n",
    "upper_bound_ceftamin = upperq_ceftamin + (1.5*iqr_ceftamin)\n",
    "print(f\"Values below {lower_bound_ceftamin} could be outliers.\")\n",
    "print(f\"Values above {upper_bound_ceftamin} could be outliers.\")"
   ]
  },
  {
   "cell_type": "code",
   "execution_count": 43,
   "metadata": {},
   "outputs": [
    {
     "data": {
      "image/png": "[encoded data removed]",
      "text/plain": [
       "<Figure size 432x288 with 1 Axes>"
      ]
     },
     "metadata": {
      "needs_background": "light"
     },
     "output_type": "display_data"
    }
   ],
   "source": [
    "#Generate a box plot of the final tumor volume of each mouse across four regimens of interest\n",
    "#Define final tumor volumes for boxplot \n",
    "volumes1_capomulin=[23.343598,28.430964,28.484033,30.485985,31.023923,31.896238,32.377357,33.329098,34.455298,36.041047,37.074024,                  \n",
    "                   37.311846,38.125164,38.753265,38.846876,38.939633,38.982878,39.952347,40.159220,40.658124,40.728578,41.483008,                   \n",
    "                   41.581521,46.539206,47.685963] \n",
    "\n",
    "volumes1_ramicane=[22.050126,29.128472,30.276232,30.564625,30.638696,31.095335,31.560470,32.978522,33.397653,33.562402,36.134852,                  \n",
    "                   36.374510,36.561652,37.225650,37.311236,38.342008,38.407618,38.810366,40.659006,40.667713,43.047543,43.166373,                  \n",
    "                   43.419381,44.183451,45.220869]   \n",
    "\n",
    "volumes1_infubinol=[36.321346,45.699331,46.250112,47.010364,50.005138,51.542431,54.048608,54.656549,55.629428,55.650681,57.031862,                 \n",
    "                    58.268442,60.165180,60.918767,60.969711,62.117279,62.435404,62.754451,65.525743,66.083066,66.196912,67.289621,                 \n",
    "                    67.685569,67.973419,72.226731]   \n",
    "\n",
    "volumes1_ceftamin=[45.000000,45.000000,45.000000,45.000000,46.784535,47.784682,48.722078,52.925348,55.742829,56.057749,57.918381,                 \n",
    "                   59.741901,59.851956,61.386660,61.433892,61.849023,62.999356,64.192341,64.299830,64.634949,64.729837,67.527482,                 \n",
    "                   67.748662,68.594745,68.923185] \n",
    "\n",
    "#Specify the desired format of the boxplot \n",
    "fig1,ax1=plt.subplots()\n",
    "\n",
    "#shade the outlier as green\n",
    "green_circle=dict(markerfacecolor='g',marker='o')\n",
    "\n",
    "#formatting\n",
    "ax1.set_title('Final tumor volume of treatment regimens')\n",
    "ax1.set_ylabel('Tumor volume (mm3)')\n",
    "ax1.boxplot([volumes1_capomulin,volumes1_ramicane,volumes1_infubinol,volumes1_ceftamin], labels=['Capomulin','Ramicane','Infubinol','Ceftamin'],flierprops=green_circle)\n",
    "plt.show()"
   ]
  }
 ],
 "metadata": {
  "kernelspec": {
   "display_name": "Python 3",
   "language": "python",
   "name": "python3"
  },
  "language_info": {
   "codemirror_mode": {
    "name": "ipython",
    "version": 3
   },
   "file_extension": ".py",
   "mimetype": "text/x-python",
   "name": "python",
   "nbconvert_exporter": "python",
   "pygments_lexer": "ipython3",
   "version": "3.8.3"
  }
 },
 "nbformat": 4,
 "nbformat_minor": 4
}
